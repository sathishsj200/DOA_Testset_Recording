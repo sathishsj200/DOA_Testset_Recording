{
 "cells": [
  {
   "cell_type": "code",
   "execution_count": 1,
   "metadata": {},
   "outputs": [],
   "source": [
    "import os\n",
    "import numpy as np\n",
    "import soundfile as sf\n",
    "from glob import glob"
   ]
  },
  {
   "cell_type": "code",
   "execution_count": 3,
   "metadata": {},
   "outputs": [],
   "source": [
    "source_dir = '..\\\\Tho\\\\DOA_test_set_playback\\\\'\n",
    "dest_dir = '..\\\\Tho\\\\Motu_Ready_Files\\\\'\n",
    "gain = 0.08#0.04\n",
    "\n",
    "if not os.path.exists(dest_dir):\n",
    "    os.makedirs(dest_dir)"
   ]
  },
  {
   "cell_type": "code",
   "execution_count": 4,
   "metadata": {},
   "outputs": [
    {
     "name": "stdout",
     "output_type": "stream",
     "text": [
      "['..\\\\Tho\\\\DOA_test_set_playback\\\\single_track.npy']\n"
     ]
    }
   ],
   "source": [
    "list = glob(source_dir + '*.npy')\n",
    "print(list)\n",
    "\n",
    "for item in list:\n",
    "    data_raw = np.load(item)\n",
    "    \n",
    "    data_play = np.zeros((data_raw.shape[0],10))\n",
    "    data_play[:,4:10]=data_raw*gain\n",
    "    sf.write(dest_dir + item.split('\\\\')[-1].replace('.npy','') + '.wav', data_play, 44100)\n",
    "    "
   ]
  },
  {
   "cell_type": "markdown",
   "metadata": {},
   "source": [
    "---\n",
    "---\n",
    "---\n",
    "---"
   ]
  },
  {
   "cell_type": "code",
   "execution_count": 1,
   "metadata": {},
   "outputs": [],
   "source": [
    "import os\n",
    "import wave\n",
    "import pyaudio\n",
    "import time\n",
    "\n",
    "import socket\n",
    "from struct import pack, unpack\n",
    "\n",
    "UDP_IP = '192.168.1.34'\n",
    "UDP_PORT = 161"
   ]
  },
  {
   "cell_type": "code",
   "execution_count": 3,
   "metadata": {},
   "outputs": [
    {
     "name": "stdout",
     "output_type": "stream",
     "text": [
      "TURNTABLE STOPPED\n",
      "CURRENT ANGLE : 0.0\n",
      "\n"
     ]
    }
   ],
   "source": [
    "def turntable(COMMAND=4, ANGLE=0):\n",
    "    if COMMAND==3 or COMMAND==4:\n",
    "        ANGLE=0\n",
    "\n",
    "    MESSAGE = pack('hh', COMMAND, int(ANGLE*10))\n",
    "\n",
    "    \"\"\"\n",
    "    print(\"UDP target IP: {}\".format(UDP_IP))\n",
    "    print(\"UDP target port: {}\".format(UDP_PORT))\n",
    "    print('SENT : {}'.format(MESSAGE))\n",
    "    \"\"\"\n",
    "\n",
    "    sock = socket.socket(socket.AF_INET, # Internet\n",
    "                        socket.SOCK_DGRAM) #UDP\n",
    "    sock.sendto(MESSAGE, (UDP_IP, UDP_PORT))\n",
    "    DATA, ADDR = sock.recvfrom(1024)\n",
    "\n",
    "    if len(DATA) is not None:\n",
    "        #print('RECEIVED : {}'.format(DATA))\n",
    "\n",
    "        if COMMAND==1 or COMMAND==2 or COMMAND==3:\n",
    "            if DATA[0]==0x33:\n",
    "                print('UDP COMMAND : SUCCESSFUL')\n",
    "            elif DATA[0]==0x66:\n",
    "                print('UDP COMMAND : UNSUCCESSFUL')\n",
    "            else:\n",
    "                print('ERROR_1')\n",
    "\n",
    "        elif COMMAND==4:\n",
    "            if DATA[0]==0x05:\n",
    "                READING = unpack('>hh', DATA[1:5])[1]/10\n",
    "                print('TURNTABLE STOPPED')\n",
    "                print('CURRENT ANGLE : {}\\n'.format(str(READING)))\n",
    "            elif DATA[0]==0x04:\n",
    "                print('TURNTABLE STILL IN MOTION')\n",
    "            else:\n",
    "                print('ERROR_2')\n",
    "\n",
    "        else:\n",
    "            print('ERROR_3')\n",
    "turntable()"
   ]
  },
  {
   "cell_type": "code",
   "execution_count": 4,
   "metadata": {},
   "outputs": [],
   "source": [
    "def recorder(OUT_DIR):\n",
    "    data_play = wave.open('../Tho/Motu_Ready_Files/single_track.wav', 'rb')\n",
    "\n",
    "    p = pyaudio.PyAudio()\n",
    "\n",
    "    In_Channel = data_play.getnchannels()\n",
    "    In_Sample = data_play.getsampwidth()\n",
    "    In_Frames = data_play.getnframes()\n",
    "    In_Rate = data_play.getframerate()\n",
    "    In_Duration = In_Frames / float(In_Rate)\n",
    "    print(In_Rate)\n",
    "\n",
    "    def callback(in_data, frame_count, time_info, flag):\n",
    "        data = data_play.readframes(frame_count)\n",
    "        return (data, pyaudio.paContinue)\n",
    "\n",
    "    #Start Recording\n",
    "    CHUNK = 1024\n",
    "    FORMAT = pyaudio.paInt16\n",
    "    CHANNELS = 8\n",
    "    RATE = 44100\n",
    "    RECORD_SECONDS = In_Duration\n",
    "\n",
    "    stream_in = p.open(format=FORMAT,\n",
    "            channels=CHANNELS,\n",
    "            rate=RATE,\n",
    "            input=True,\n",
    "            frames_per_buffer=CHUNK)\n",
    "\n",
    "    #print('CHANNEL : {}/{}'.format(ch+1, 6))\n",
    "    #print(\"RECORDING\", end='\\n\\n')\n",
    "\n",
    "    frames=[]\n",
    "    front_buffer = int(RATE/CHUNK*0.5)\n",
    "\n",
    "    for i in range(0, int(RATE / CHUNK * RECORD_SECONDS)):\n",
    "        data=stream_in.read(CHUNK)\n",
    "        frames.append(data)\n",
    "        #print('.', end='')\n",
    "        if i == front_buffer:        \n",
    "            stream_out = p.open(format=p.get_format_from_width(data_play.getsampwidth()),\n",
    "                    channels=10,\n",
    "                    rate=RATE,\n",
    "                    output=True,\n",
    "                    stream_callback=callback,\n",
    "                    output_device_index=7)\n",
    "\n",
    "    # start the stream (4)\n",
    "    stream_out.start_stream()\n",
    "\n",
    "    # wait for stream to finish (5)\n",
    "    while stream_out.is_active():\n",
    "        time.sleep(0.1)\n",
    "\n",
    "    # stop stream (6)\n",
    "    stream_out.stop_stream()\n",
    "    stream_out.close()\n",
    "    data_play.close()\n",
    "\n",
    "    stream_in.stop_stream()\n",
    "    stream_in.close()\n",
    "\n",
    "    # close PyAudio (7)\n",
    "    p.terminate()\n",
    "\n",
    "    #data_rec = wave.open(OUT_DIR + 'RIR_' + str(ch+1) +'.wav', 'wb')\n",
    "    data_rec = wave.open(OUT_DIR + 'single_track_recorded' +'.wav', 'wb')\n",
    "    data_rec.setnchannels(CHANNELS)\n",
    "    data_rec.setsampwidth(p.get_sample_size(FORMAT))\n",
    "    data_rec.setframerate(RATE)\n",
    "    data_rec.writeframes(b''.join(frames))\n",
    "    data_rec.close()\n"
   ]
  },
  {
   "cell_type": "code",
   "execution_count": 5,
   "metadata": {},
   "outputs": [],
   "source": [
    "import time, datetime"
   ]
  },
  {
   "cell_type": "code",
   "execution_count": 6,
   "metadata": {},
   "outputs": [
    {
     "name": "stdout",
     "output_type": "stream",
     "text": [
      "..\\Tho\\Recorded_Tracks\\ELEV_0_PADDED\\ANG_0\\\n",
      "TURNTABLE STOPPED\n",
      "CURRENT ANGLE : 0.0\n",
      "\n",
      "44100\n",
      "UDP COMMAND : SUCCESSFUL\n",
      "Time Elapsed for ANG_0: 0:10:36.815427 \n",
      "..\\Tho\\Recorded_Tracks\\ELEV_0_PADDED\\ANG_11\\\n",
      "TURNTABLE STOPPED\n",
      "CURRENT ANGLE : 11.0\n",
      "\n",
      "44100\n",
      "UDP COMMAND : SUCCESSFUL\n",
      "Time Elapsed for ANG_11: 0:10:34.917732 \n",
      "..\\Tho\\Recorded_Tracks\\ELEV_0_PADDED\\ANG_22\\\n",
      "TURNTABLE STOPPED\n",
      "CURRENT ANGLE : 22.0\n",
      "\n",
      "44100\n",
      "UDP COMMAND : SUCCESSFUL\n",
      "Time Elapsed for ANG_22: 0:10:34.820711 \n",
      "..\\Tho\\Recorded_Tracks\\ELEV_0_PADDED\\ANG_33\\\n",
      "TURNTABLE STOPPED\n",
      "CURRENT ANGLE : 33.0\n",
      "\n",
      "44100\n",
      "UDP COMMAND : SUCCESSFUL\n",
      "Time Elapsed for ANG_33: 0:10:34.962234 \n",
      "..\\Tho\\Recorded_Tracks\\ELEV_0_PADDED\\ANG_44\\\n",
      "TURNTABLE STOPPED\n",
      "CURRENT ANGLE : 44.0\n",
      "\n",
      "44100\n",
      "UDP COMMAND : SUCCESSFUL\n",
      "Time Elapsed for ANG_44: 0:10:34.942487 \n",
      "..\\Tho\\Recorded_Tracks\\ELEV_0_PADDED\\ANG_55\\\n",
      "TURNTABLE STOPPED\n",
      "CURRENT ANGLE : 55.0\n",
      "\n",
      "44100\n",
      "UDP COMMAND : SUCCESSFUL\n",
      "Time Elapsed for ANG_55: 0:10:34.915993 \n",
      "Total Time Elapsed : 1:03:31.379616 \n"
     ]
    }
   ],
   "source": [
    "start = time.time()\n",
    "\n",
    "#ANGLE_LIST=[33, 44, 55]\n",
    "ANGLE_LIST=[0, 11, 22, 33, 44, 55]\n",
    "#ANGLE_LIST=[55]\n",
    "\n",
    "ELEVATION = 1000 # 0, 1000\n",
    "\n",
    "for ANGLE in ANGLE_LIST:\n",
    "    a_str = time.time()\n",
    "    \n",
    "    OUT_DIR= '..\\\\Tho\\\\Recorded_Tracks\\\\ELEV_' + str(ELEVATION) + '_PADDED\\\\' + 'ANG_' + str(ANGLE) + '\\\\'\n",
    "    print(OUT_DIR)\n",
    "    if not os.path.exists(OUT_DIR):\n",
    "        os.makedirs(OUT_DIR)\n",
    "        \n",
    "    turntable()\n",
    "    recorder(OUT_DIR)\n",
    "    turntable(1,11)\n",
    "    time.sleep(6)\n",
    "    \n",
    "    a_end = time.time()\n",
    "    print(\"Time Elapsed for ANG_{}: {} \".format(ANGLE,datetime.timedelta(0, a_end-a_str)))\n",
    "\n",
    "end = time.time()\n",
    "print(\"Total Time Elapsed : {} \".format(datetime.timedelta(0, end-start)))"
   ]
  },
  {
   "cell_type": "code",
   "execution_count": 9,
   "metadata": {},
   "outputs": [
    {
     "name": "stdout",
     "output_type": "stream",
     "text": [
      "TURNTABLE STOPPED\n",
      "CURRENT ANGLE : 51.2\n",
      "\n"
     ]
    }
   ],
   "source": [
    "turntable()"
   ]
  },
  {
   "cell_type": "code",
   "execution_count": 8,
   "metadata": {},
   "outputs": [
    {
     "name": "stdout",
     "output_type": "stream",
     "text": [
      "UDP COMMAND : SUCCESSFUL\n"
     ]
    }
   ],
   "source": [
    "turntable(2,66)"
   ]
  },
  {
   "cell_type": "code",
   "execution_count": null,
   "metadata": {},
   "outputs": [],
   "source": []
  }
 ],
 "metadata": {
  "kernelspec": {
   "display_name": "Python 3",
   "language": "python",
   "name": "python3"
  },
  "language_info": {
   "codemirror_mode": {
    "name": "ipython",
    "version": 3
   },
   "file_extension": ".py",
   "mimetype": "text/x-python",
   "name": "python",
   "nbconvert_exporter": "python",
   "pygments_lexer": "ipython3",
   "version": "3.7.3"
  }
 },
 "nbformat": 4,
 "nbformat_minor": 2
}
