{
 "cells": [
  {
   "cell_type": "markdown",
   "metadata": {},
   "source": [
    "---\n",
    "---\n",
    "---\n",
    "---"
   ]
  },
  {
   "cell_type": "code",
   "execution_count": 1,
   "metadata": {},
   "outputs": [],
   "source": [
    "import os\n",
    "import wave\n",
    "import pyaudio\n",
    "import time\n",
    "import math\n",
    "from glob import glob\n",
    "from IPython.display import clear_output"
   ]
  },
  {
   "cell_type": "code",
   "execution_count": null,
   "metadata": {},
   "outputs": [
    {
     "name": "stdout",
     "output_type": "stream",
     "text": [
      "Remaining Time: 52 secs\n"
     ]
    }
   ],
   "source": [
    "try:\n",
    "    OUT_DIR_T = '..\\\\Rishabh\\\\Recorded_Tracks\\\\Amb\\\\'\n",
    "    if not os.path.exists(OUT_DIR_T):\n",
    "        os.makedirs(OUT_DIR_T)\n",
    "    \n",
    "    p = pyaudio.PyAudio()\n",
    "\n",
    "    #Start Recording\n",
    "    CHUNK = 1024\n",
    "    FORMAT = pyaudio.paInt16\n",
    "    CHANNELS = 8\n",
    "    RATE = 44100\n",
    "    RECORD_SECONDS = 60*60\n",
    "\n",
    "    stream_in = p.open(format=FORMAT,\n",
    "            channels=CHANNELS,\n",
    "            rate=RATE,\n",
    "            input=True,\n",
    "            frames_per_buffer=CHUNK)\n",
    "    \n",
    "    frames=[]\n",
    "\n",
    "    for i in range(0, int(RATE / CHUNK * RECORD_SECONDS)):\n",
    "        data=stream_in.read(CHUNK)\n",
    "        frames.append(data)\n",
    "        if (i%43==0):\n",
    "            clear_output(wait=True)\n",
    "            print('Remaining Time: {} secs'.format(int(RECORD_SECONDS-i//43)))\n",
    "\n",
    "    stream_in.stop_stream()\n",
    "    stream_in.close()\n",
    "\n",
    "    # close PyAudio (7)\n",
    "    p.terminate()\n",
    "\n",
    "\n",
    "\n",
    "    data_rec = wave.open(OUT_DIR_T + 'amb_2.wav', 'wb')\n",
    "    data_rec.setnchannels(CHANNELS)\n",
    "    data_rec.setsampwidth(p.get_sample_size(FORMAT))\n",
    "    data_rec.setframerate(RATE)\n",
    "    data_rec.writeframes(b''.join(frames))\n",
    "    data_rec.close()\n",
    "\n",
    "    print(\"All's Done!\")\n",
    "    \n",
    "except:\n",
    "    print ('Error')\n"
   ]
  },
  {
   "cell_type": "code",
   "execution_count": null,
   "metadata": {},
   "outputs": [],
   "source": []
  }
 ],
 "metadata": {
  "kernelspec": {
   "display_name": "Python 3",
   "language": "python",
   "name": "python3"
  },
  "language_info": {
   "codemirror_mode": {
    "name": "ipython",
    "version": 3
   },
   "file_extension": ".py",
   "mimetype": "text/x-python",
   "name": "python",
   "nbconvert_exporter": "python",
   "pygments_lexer": "ipython3",
   "version": "3.7.3"
  }
 },
 "nbformat": 4,
 "nbformat_minor": 2
}
